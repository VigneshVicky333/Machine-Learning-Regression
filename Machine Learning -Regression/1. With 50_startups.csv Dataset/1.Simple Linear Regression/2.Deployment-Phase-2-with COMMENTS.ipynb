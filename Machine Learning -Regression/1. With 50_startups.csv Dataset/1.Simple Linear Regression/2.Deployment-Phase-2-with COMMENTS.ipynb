{
 "cells": [
  {
   "cell_type": "code",
   "execution_count": 1,
   "id": "db425bfe",
   "metadata": {},
   "outputs": [],
   "source": [
    "# Here we need to create a new file for this Deployment phase-2, \n",
    "   #such that we can share it with the end user.\n",
    "    # first we need to give \"import pickle\" for saving the model we used previously.\n",
    "\n",
    "import pickle"
   ]
  },
  {
   "cell_type": "code",
   "execution_count": null,
   "id": "08d9547b",
   "metadata": {},
   "outputs": [],
   "source": [
    "# Then we should go the previous code, and copy the loaded the model, and paste it here.\n",
    "\n",
    "# We should make sure that the file is available in the same folder, then only we can call it.\n",
    "   # Or else it will show error: File not found."
   ]
  },
  {
   "cell_type": "code",
   "execution_count": 4,
   "id": "63acc5f8",
   "metadata": {},
   "outputs": [
    {
     "name": "stderr",
     "output_type": "stream",
     "text": [
      "C:\\Users\\dell\\anaconda3\\Lib\\site-packages\\sklearn\\base.py:464: UserWarning: X does not have valid feature names, but LinearRegression was fitted with feature names\n",
      "  warnings.warn(\n"
     ]
    }
   ],
   "source": [
    "#Once we execute this code it will show the warning message.\n",
    "\n",
    "loaded_model=pickle.load(open(\"finalized_model_linear.sav\",'rb'))\n",
    "result=loaded_model.predict([[0]])"
   ]
  },
  {
   "cell_type": "code",
   "execution_count": 5,
   "id": "ab0d0170",
   "metadata": {},
   "outputs": [
    {
     "data": {
      "text/plain": [
       "array([[26777.3913412]])"
      ]
     },
     "execution_count": 5,
     "metadata": {},
     "output_type": "execute_result"
    }
   ],
   "source": [
    "result"
   ]
  },
  {
   "cell_type": "code",
   "execution_count": null,
   "id": "919e5aff",
   "metadata": {},
   "outputs": [],
   "source": [
    "# Here we should know another concept, In our previous I/P--> the given years of experience\n",
    "   # Starting itself given as 1.1 (that is 1 year,1 month)only.\n",
    "    # But if we need to predict it for 0 years of experience, we need to put 0 instead of 15.\n",
    "     # And while executing it for 0, it displays the O/P: array([[26777.3913412]]).\n",
    "        \n",
    "# We can see it in the (bias value/origin/Intercept/Minimal value).\n",
    " # eg: That means y=9360X + 26777\n",
    "              # y=9360(0) + 26777\n",
    "              # y=0 + 26777=>y=26777\n",
    "      # So, whenever we see fresher, we should remember--->bias/origin.      "
   ]
  }
 ],
 "metadata": {
  "kernelspec": {
   "display_name": "Python 3 (ipykernel)",
   "language": "python",
   "name": "python3"
  },
  "language_info": {
   "codemirror_mode": {
    "name": "ipython",
    "version": 3
   },
   "file_extension": ".py",
   "mimetype": "text/x-python",
   "name": "python",
   "nbconvert_exporter": "python",
   "pygments_lexer": "ipython3",
   "version": "3.10.15"
  }
 },
 "nbformat": 4,
 "nbformat_minor": 5
}
